{
 "cells": [
  {
   "cell_type": "code",
   "execution_count": null,
   "metadata": {},
   "outputs": [],
   "source": [
    "---\n",
    "title: What should I eat today?\n",
    "description: Get dinner ideas\n",
    "show-code: False\n",
    "params:\n",
    "   numideas:\n",
    "      input: slider\n",
    "      label: how many ideas do you want?\n",
    "      value: 1952\n",
    "      min: 1\n",
    "      max: 5\n",
    "---"
   ]
  },
  {
   "cell_type": "code",
   "execution_count": null,
   "metadata": {},
   "outputs": [],
   "source": [
    "import requests"
   ]
  },
  {
   "cell_type": "code",
   "execution_count": null,
   "metadata": {},
   "outputs": [],
   "source": [
    "def foodideas(numideas=1):\n",
    "    for j in range(numideas):\n",
    "        response = requests.get(\"http://www.themealdb.com/api/json/v1/1/random.php\")\n",
    "        foodideas = []\n",
    "        for i in ['strCategory','strArea','strIngredient1']:\n",
    "            foodideas.append(response.json()['meals'][0][i])\n",
    "        print(foodideas)\n",
    "\n"
   ]
  },
  {
   "cell_type": "code",
   "execution_count": null,
   "metadata": {},
   "outputs": [],
   "source": [
    "numideas = 2\n",
    "foodideas(numideas)"
   ]
  },
  {
   "cell_type": "code",
   "execution_count": null,
   "metadata": {},
   "outputs": [],
   "source": []
  }
 ],
 "metadata": {
  "kernelspec": {
   "display_name": "Python 3.9.15 ('base')",
   "language": "python",
   "name": "python3"
  },
  "language_info": {
   "name": "python",
   "version": "3.9.15"
  },
  "orig_nbformat": 4,
  "vscode": {
   "interpreter": {
    "hash": "40d3a090f54c6569ab1632332b64b2c03c39dcf918b08424e98f38b5ae0af88f"
   }
  }
 },
 "nbformat": 4,
 "nbformat_minor": 2
}
