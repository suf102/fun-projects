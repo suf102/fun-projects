{
 "cells": [
  {
   "cell_type": "code",
   "execution_count": 73,
   "metadata": {},
   "outputs": [
    {
     "ename": "SyntaxError",
     "evalue": "invalid syntax (1077474080.py, line 1)",
     "output_type": "error",
     "traceback": [
      "\u001b[1;36m  Input \u001b[1;32mIn [73]\u001b[1;36m\u001b[0m\n\u001b[1;33m    ---\u001b[0m\n\u001b[1;37m       ^\u001b[0m\n\u001b[1;31mSyntaxError\u001b[0m\u001b[1;31m:\u001b[0m invalid syntax\n"
     ]
    }
   ],
   "source": [
    "---\n",
    "title: What should I eat today?\n",
    "description: Get dinner ideas\n",
    "show-code: False\n",
    "params:\n",
    "   numideas:\n",
    "      input: slider\n",
    "      label: how many ideas do you want?\n",
    "      value: 1952\n",
    "      min: 1\n",
    "      max: 5\n",
    "---"
   ]
  },
  {
   "cell_type": "code",
   "execution_count": 58,
   "metadata": {},
   "outputs": [],
   "source": [
    "import requests"
   ]
  },
  {
   "cell_type": "code",
   "execution_count": 71,
   "metadata": {},
   "outputs": [],
   "source": [
    "def foodideas(numideas=1):\n",
    "    for j in range(numideas):\n",
    "        response = requests.get(\"http://www.themealdb.com/api/json/v1/1/random.php\")\n",
    "        foodideas = []\n",
    "        for i in ['strCategory','strArea','strIngredient1']:\n",
    "            foodideas.append(response.json()['meals'][0][i])\n",
    "        print(foodideas)\n",
    "\n"
   ]
  },
  {
   "cell_type": "code",
   "execution_count": 72,
   "metadata": {},
   "outputs": [
    {
     "name": "stdout",
     "output_type": "stream",
     "text": [
      "['Vegetarian', 'Italian', 'Butternut Squash']\n",
      "['Chicken', 'Thai', 'potatoes']\n",
      "['Dessert', 'American', 'Plain Flour']\n"
     ]
    }
   ],
   "source": [
    "numideas = 2\n",
    "foodideas(numideas)"
   ]
  },
  {
   "cell_type": "code",
   "execution_count": null,
   "metadata": {},
   "outputs": [],
   "source": []
  }
 ],
 "metadata": {
  "kernelspec": {
   "display_name": "Python 3.9.12 ('base')",
   "language": "python",
   "name": "python3"
  },
  "language_info": {
   "name": "python",
   "version": "3.9.12"
  },
  "orig_nbformat": 4,
  "vscode": {
   "interpreter": {
    "hash": "ad2bdc8ecc057115af97d19610ffacc2b4e99fae6737bb82f5d7fb13d2f2c186"
   }
  }
 },
 "nbformat": 4,
 "nbformat_minor": 2
}
